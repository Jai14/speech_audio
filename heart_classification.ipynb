{
 "cells": [
  {
   "cell_type": "code",
   "execution_count": 8,
   "id": "d18bd3de-740f-41aa-8d30-04c0e4a36f92",
   "metadata": {
    "tags": []
   },
   "outputs": [
    {
     "name": "stdout",
     "output_type": "stream",
     "text": [
      "Collecting pydub\n",
      "  Using cached pydub-0.25.1-py2.py3-none-any.whl.metadata (1.4 kB)\n",
      "Using cached pydub-0.25.1-py2.py3-none-any.whl (32 kB)\n",
      "Installing collected packages: pydub\n",
      "Successfully installed pydub-0.25.1\n",
      "Note: you may need to restart the kernel to use updated packages.\n"
     ]
    }
   ],
   "source": [
    "pip install pydub\n"
   ]
  },
  {
   "cell_type": "code",
   "execution_count": 9,
   "id": "7d7846de-4fc8-439d-bce8-726727057e3b",
   "metadata": {
    "tags": []
   },
   "outputs": [
    {
     "name": "stdout",
     "output_type": "stream",
     "text": [
      "Collecting librosa\n",
      "  Using cached librosa-0.10.1-py3-none-any.whl.metadata (8.3 kB)\n",
      "Collecting audioread>=2.1.9 (from librosa)\n",
      "  Using cached audioread-3.0.1-py3-none-any.whl.metadata (8.4 kB)\n",
      "Requirement already satisfied: numpy!=1.22.0,!=1.22.1,!=1.22.2,>=1.20.3 in /opt/conda/lib/python3.10/site-packages (from librosa) (1.25.2)\n",
      "Requirement already satisfied: scipy>=1.2.0 in /opt/conda/lib/python3.10/site-packages (from librosa) (1.11.4)\n",
      "Requirement already satisfied: scikit-learn>=0.20.0 in /opt/conda/lib/python3.10/site-packages (from librosa) (1.4.1.post1)\n",
      "Requirement already satisfied: joblib>=0.14 in /opt/conda/lib/python3.10/site-packages (from librosa) (1.3.2)\n",
      "Requirement already satisfied: decorator>=4.3.0 in /opt/conda/lib/python3.10/site-packages (from librosa) (5.1.1)\n",
      "Requirement already satisfied: numba>=0.51.0 in /opt/conda/lib/python3.10/site-packages (from librosa) (0.58.1)\n",
      "Collecting soundfile>=0.12.1 (from librosa)\n",
      "  Using cached soundfile-0.12.1-py2.py3-none-manylinux_2_31_x86_64.whl.metadata (14 kB)\n",
      "Collecting pooch>=1.0 (from librosa)\n",
      "  Using cached pooch-1.8.1-py3-none-any.whl.metadata (9.5 kB)\n",
      "Collecting soxr>=0.3.2 (from librosa)\n",
      "  Using cached soxr-0.3.7-cp310-cp310-manylinux_2_17_x86_64.manylinux2014_x86_64.whl.metadata (5.5 kB)\n",
      "Requirement already satisfied: typing-extensions>=4.1.1 in /opt/conda/lib/python3.10/site-packages (from librosa) (4.10.0)\n",
      "Requirement already satisfied: lazy-loader>=0.1 in /opt/conda/lib/python3.10/site-packages (from librosa) (0.3)\n",
      "Requirement already satisfied: msgpack>=1.0 in /opt/conda/lib/python3.10/site-packages (from librosa) (1.0.8)\n",
      "Requirement already satisfied: llvmlite<0.42,>=0.41.0dev0 in /opt/conda/lib/python3.10/site-packages (from numba>=0.51.0->librosa) (0.41.1)\n",
      "Requirement already satisfied: platformdirs>=2.5.0 in /opt/conda/lib/python3.10/site-packages (from pooch>=1.0->librosa) (4.2.0)\n",
      "Requirement already satisfied: packaging>=20.0 in /opt/conda/lib/python3.10/site-packages (from pooch>=1.0->librosa) (24.0)\n",
      "Requirement already satisfied: requests>=2.19.0 in /opt/conda/lib/python3.10/site-packages (from pooch>=1.0->librosa) (2.31.0)\n",
      "Requirement already satisfied: threadpoolctl>=2.0.0 in /opt/conda/lib/python3.10/site-packages (from scikit-learn>=0.20.0->librosa) (3.3.0)\n",
      "Requirement already satisfied: cffi>=1.0 in /opt/conda/lib/python3.10/site-packages (from soundfile>=0.12.1->librosa) (1.16.0)\n",
      "Requirement already satisfied: pycparser in /opt/conda/lib/python3.10/site-packages (from cffi>=1.0->soundfile>=0.12.1->librosa) (2.21)\n",
      "Requirement already satisfied: charset-normalizer<4,>=2 in /opt/conda/lib/python3.10/site-packages (from requests>=2.19.0->pooch>=1.0->librosa) (3.3.2)\n",
      "Requirement already satisfied: idna<4,>=2.5 in /opt/conda/lib/python3.10/site-packages (from requests>=2.19.0->pooch>=1.0->librosa) (3.6)\n",
      "Requirement already satisfied: urllib3<3,>=1.21.1 in /opt/conda/lib/python3.10/site-packages (from requests>=2.19.0->pooch>=1.0->librosa) (1.26.18)\n",
      "Requirement already satisfied: certifi>=2017.4.17 in /opt/conda/lib/python3.10/site-packages (from requests>=2.19.0->pooch>=1.0->librosa) (2024.2.2)\n",
      "Using cached librosa-0.10.1-py3-none-any.whl (253 kB)\n",
      "Using cached audioread-3.0.1-py3-none-any.whl (23 kB)\n",
      "Using cached pooch-1.8.1-py3-none-any.whl (62 kB)\n",
      "Using cached soundfile-0.12.1-py2.py3-none-manylinux_2_31_x86_64.whl (1.2 MB)\n",
      "Using cached soxr-0.3.7-cp310-cp310-manylinux_2_17_x86_64.manylinux2014_x86_64.whl (1.2 MB)\n",
      "Installing collected packages: soxr, audioread, soundfile, pooch, librosa\n",
      "Successfully installed audioread-3.0.1 librosa-0.10.1 pooch-1.8.1 soundfile-0.12.1 soxr-0.3.7\n",
      "Note: you may need to restart the kernel to use updated packages.\n"
     ]
    }
   ],
   "source": [
    "pip install librosa"
   ]
  },
  {
   "cell_type": "code",
   "execution_count": 10,
   "id": "142ab08f-03f5-4e0d-bf41-0cddc94f0686",
   "metadata": {
    "tags": []
   },
   "outputs": [
    {
     "name": "stderr",
     "output_type": "stream",
     "text": [
      "/opt/conda/lib/python3.10/site-packages/pydub/utils.py:170: RuntimeWarning: Couldn't find ffmpeg or avconv - defaulting to ffmpeg, but may not work\n",
      "  warn(\"Couldn't find ffmpeg or avconv - defaulting to ffmpeg, but may not work\", RuntimeWarning)\n"
     ]
    }
   ],
   "source": [
    "import pandas as pd\n",
    "import zipfile\n",
    "import os\n",
    "import matplotlib.pyplot as plt\n",
    "import torch.optim as optim\n",
    "import os\n",
    "import pandas as pd\n",
    "import numpy as np\n",
    "import librosa.display, os\n",
    "from pydub import AudioSegment  # Requires pydub library for getting audio length"
   ]
  },
  {
   "cell_type": "code",
   "execution_count": 11,
   "id": "0c9a3c62-2531-4cb5-8420-20dc2a11644c",
   "metadata": {
    "tags": []
   },
   "outputs": [],
   "source": [
    "dataset_path = \"heart_dataset.zip\"\n",
    "extracted_dir = \"heart_dataset\"\n",
    "os.makedirs(extracted_dir, exist_ok=True)"
   ]
  },
  {
   "cell_type": "code",
   "execution_count": 126,
   "id": "a14060b1-dc2c-49cb-a668-9b1dc48a9655",
   "metadata": {
    "tags": []
   },
   "outputs": [
    {
     "name": "stdout",
     "output_type": "stream",
     "text": [
      "Dataset has been extracted.\n"
     ]
    }
   ],
   "source": [
    "with zipfile.ZipFile(dataset_path, 'r') as zip_ref:\n",
    "    zip_ref.extractall(extracted_dir)\n",
    "print(\"Dataset has been extracted.\")"
   ]
  },
  {
   "cell_type": "code",
   "execution_count": 12,
   "id": "21f7a72f-9601-47aa-a9eb-a197e75dd45c",
   "metadata": {
    "tags": []
   },
   "outputs": [],
   "source": [
    "root_dir = \"heart_dataset\"\n",
    "csv_dest = \"meta_data.csv\""
   ]
  },
  {
   "cell_type": "code",
   "execution_count": 13,
   "id": "d742e59b-7f98-420e-9a56-e71b40c99e48",
   "metadata": {
    "tags": []
   },
   "outputs": [],
   "source": [
    "def generate_csv(root_dir, csv_dest):\n",
    "    data = []\n",
    "    for label in os.listdir(root_dir):\n",
    "        label_dir = os.path.join(root_dir, label)\n",
    "        if os.path.isdir(label_dir):\n",
    "            for filename in os.listdir(label_dir):\n",
    "                if filename.endswith('.wav'):\n",
    "                    file_path = os.path.join(label_dir, filename)\n",
    "                    audio_length = get_audio_length(file_path)\n",
    "                    data.append({'File': filename, 'Label': label, 'Audio_Length': audio_length})\n",
    "\n",
    "    df = pd.DataFrame(data)\n",
    "    df.to_csv(csv_dest, index=False)"
   ]
  },
  {
   "cell_type": "code",
   "execution_count": 14,
   "id": "3eea0cd5-b0ff-4409-b67c-0b3ef2b12054",
   "metadata": {
    "tags": []
   },
   "outputs": [],
   "source": [
    "def get_audio_length(file_path):\n",
    "    audio = AudioSegment.from_file(file_path)\n",
    "    return len(audio) / 1000 # convert to seconds from milliseconds"
   ]
  },
  {
   "cell_type": "code",
   "execution_count": 15,
   "id": "501cbce6-efce-45d4-989f-55f8b114fd2d",
   "metadata": {
    "tags": []
   },
   "outputs": [],
   "source": [
    "generate_csv(root_dir, csv_dest)"
   ]
  },
  {
   "cell_type": "code",
   "execution_count": 16,
   "id": "e1701534-e200-4e90-ae3c-daa59e3f81bb",
   "metadata": {
    "tags": []
   },
   "outputs": [],
   "source": [
    "df = pd.read_csv(csv_dest)"
   ]
  },
  {
   "cell_type": "code",
   "execution_count": 17,
   "id": "af0b80dc-4998-44f1-9af6-1b630a1b12c3",
   "metadata": {
    "tags": []
   },
   "outputs": [
    {
     "data": {
      "text/html": [
       "<div>\n",
       "<style scoped>\n",
       "    .dataframe tbody tr th:only-of-type {\n",
       "        vertical-align: middle;\n",
       "    }\n",
       "\n",
       "    .dataframe tbody tr th {\n",
       "        vertical-align: top;\n",
       "    }\n",
       "\n",
       "    .dataframe thead th {\n",
       "        text-align: right;\n",
       "    }\n",
       "</style>\n",
       "<table border=\"1\" class=\"dataframe\">\n",
       "  <thead>\n",
       "    <tr style=\"text-align: right;\">\n",
       "      <th></th>\n",
       "      <th>File</th>\n",
       "      <th>Label</th>\n",
       "      <th>Audio_Length</th>\n",
       "    </tr>\n",
       "  </thead>\n",
       "  <tbody>\n",
       "    <tr>\n",
       "      <th>0</th>\n",
       "      <td>New_MR_030.wav</td>\n",
       "      <td>MR</td>\n",
       "      <td>2.244</td>\n",
       "    </tr>\n",
       "    <tr>\n",
       "      <th>1</th>\n",
       "      <td>New_MR_095.wav</td>\n",
       "      <td>MR</td>\n",
       "      <td>2.942</td>\n",
       "    </tr>\n",
       "    <tr>\n",
       "      <th>2</th>\n",
       "      <td>New_MR_060.wav</td>\n",
       "      <td>MR</td>\n",
       "      <td>2.197</td>\n",
       "    </tr>\n",
       "    <tr>\n",
       "      <th>3</th>\n",
       "      <td>New_MR_007.wav</td>\n",
       "      <td>MR</td>\n",
       "      <td>1.806</td>\n",
       "    </tr>\n",
       "    <tr>\n",
       "      <th>4</th>\n",
       "      <td>New_MR_052.wav</td>\n",
       "      <td>MR</td>\n",
       "      <td>2.209</td>\n",
       "    </tr>\n",
       "    <tr>\n",
       "      <th>...</th>\n",
       "      <td>...</td>\n",
       "      <td>...</td>\n",
       "      <td>...</td>\n",
       "    </tr>\n",
       "    <tr>\n",
       "      <th>995</th>\n",
       "      <td>New_AS_173.wav</td>\n",
       "      <td>AS</td>\n",
       "      <td>3.016</td>\n",
       "    </tr>\n",
       "    <tr>\n",
       "      <th>996</th>\n",
       "      <td>New_AS_116.wav</td>\n",
       "      <td>AS</td>\n",
       "      <td>2.616</td>\n",
       "    </tr>\n",
       "    <tr>\n",
       "      <th>997</th>\n",
       "      <td>New_AS_084.wav</td>\n",
       "      <td>AS</td>\n",
       "      <td>2.612</td>\n",
       "    </tr>\n",
       "    <tr>\n",
       "      <th>998</th>\n",
       "      <td>New_AS_138.wav</td>\n",
       "      <td>AS</td>\n",
       "      <td>2.365</td>\n",
       "    </tr>\n",
       "    <tr>\n",
       "      <th>999</th>\n",
       "      <td>New_AS_085.wav</td>\n",
       "      <td>AS</td>\n",
       "      <td>2.618</td>\n",
       "    </tr>\n",
       "  </tbody>\n",
       "</table>\n",
       "<p>1000 rows × 3 columns</p>\n",
       "</div>"
      ],
      "text/plain": [
       "               File Label  Audio_Length\n",
       "0    New_MR_030.wav    MR         2.244\n",
       "1    New_MR_095.wav    MR         2.942\n",
       "2    New_MR_060.wav    MR         2.197\n",
       "3    New_MR_007.wav    MR         1.806\n",
       "4    New_MR_052.wav    MR         2.209\n",
       "..              ...   ...           ...\n",
       "995  New_AS_173.wav    AS         3.016\n",
       "996  New_AS_116.wav    AS         2.616\n",
       "997  New_AS_084.wav    AS         2.612\n",
       "998  New_AS_138.wav    AS         2.365\n",
       "999  New_AS_085.wav    AS         2.618\n",
       "\n",
       "[1000 rows x 3 columns]"
      ]
     },
     "execution_count": 17,
     "metadata": {},
     "output_type": "execute_result"
    }
   ],
   "source": [
    "df"
   ]
  },
  {
   "cell_type": "code",
   "execution_count": 18,
   "id": "4c1aadb2-0dab-4462-96c4-9f52d8d0558a",
   "metadata": {
    "tags": []
   },
   "outputs": [],
   "source": [
    "label_counts = df['Label'].value_counts()"
   ]
  },
  {
   "cell_type": "code",
   "execution_count": 19,
   "id": "448b5395-ead6-4dab-9f5e-6b5f4c1314de",
   "metadata": {
    "tags": []
   },
   "outputs": [
    {
     "data": {
      "text/plain": [
       "Label\n",
       "MR        200\n",
       "MS        200\n",
       "Normal    200\n",
       "MVP       200\n",
       "AS        200\n",
       "Name: count, dtype: int64"
      ]
     },
     "execution_count": 19,
     "metadata": {},
     "output_type": "execute_result"
    }
   ],
   "source": [
    "label_counts"
   ]
  },
  {
   "cell_type": "code",
   "execution_count": 20,
   "id": "f1a2e191-9be1-4ffa-80ad-5d3606ae4808",
   "metadata": {
    "tags": []
   },
   "outputs": [],
   "source": [
    "length_counts = df['Audio_Length'].value_counts()"
   ]
  },
  {
   "cell_type": "code",
   "execution_count": 21,
   "id": "0b7cfb26-843d-419c-98b2-0edcbf9fe849",
   "metadata": {
    "tags": []
   },
   "outputs": [
    {
     "data": {
      "text/plain": [
       "Audio_Length\n",
       "2.630    7\n",
       "2.685    7\n",
       "2.604    6\n",
       "2.084    6\n",
       "2.681    6\n",
       "        ..\n",
       "1.576    1\n",
       "2.575    1\n",
       "2.099    1\n",
       "2.200    1\n",
       "2.365    1\n",
       "Name: count, Length: 558, dtype: int64"
      ]
     },
     "execution_count": 21,
     "metadata": {},
     "output_type": "execute_result"
    }
   ],
   "source": [
    "length_counts"
   ]
  },
  {
   "cell_type": "code",
   "execution_count": 83,
   "id": "06aff4fe-6eda-47e1-948b-c3cfbc27d750",
   "metadata": {
    "tags": []
   },
   "outputs": [],
   "source": [
    "data_less2 = df[df['Audio_Length'] < 2]"
   ]
  },
  {
   "cell_type": "code",
   "execution_count": 91,
   "id": "a9ebf3f8-f395-4553-8124-09f2a51ce44f",
   "metadata": {
    "tags": []
   },
   "outputs": [],
   "source": [
    "minimum_length = data_less2['Audio_Length'].min()\n",
    "min_index = data_less2['Audio_Length'].idxmin()\n",
    "filename_of_minimum_length = data_less2.loc[min_index, 'File']"
   ]
  },
  {
   "cell_type": "code",
   "execution_count": 93,
   "id": "dcca2ed5-ebfc-4bfa-9d48-5b7e4292997b",
   "metadata": {
    "tags": []
   },
   "outputs": [
    {
     "name": "stdout",
     "output_type": "stream",
     "text": [
      "Filename of the entry with the maximum 'Audio_Length': New_MS_006.wav\n"
     ]
    }
   ],
   "source": [
    "print(\"Filename of the entry with the maximum 'Audio_Length':\", filename_of_minimum_length)"
   ]
  },
  {
   "cell_type": "code",
   "execution_count": 74,
   "id": "2b17e082-14d1-41c8-b448-3f3b86f7c8d4",
   "metadata": {
    "tags": []
   },
   "outputs": [
    {
     "data": {
      "text/plain": [
       "1.156"
      ]
     },
     "execution_count": 74,
     "metadata": {},
     "output_type": "execute_result"
    }
   ],
   "source": [
    "minimum_length"
   ]
  },
  {
   "cell_type": "code",
   "execution_count": 75,
   "id": "df5af01f-17ed-4938-ba1a-dc1930070560",
   "metadata": {
    "tags": []
   },
   "outputs": [],
   "source": [
    "length_counts_less2 = data_less2.value_counts()"
   ]
  },
  {
   "cell_type": "code",
   "execution_count": 76,
   "id": "241843f3-5ec5-45b6-9448-ce83b6d8971e",
   "metadata": {
    "tags": []
   },
   "outputs": [
    {
     "data": {
      "text/plain": [
       "49"
      ]
     },
     "execution_count": 76,
     "metadata": {},
     "output_type": "execute_result"
    }
   ],
   "source": [
    "len(length_counts_less2)"
   ]
  },
  {
   "cell_type": "code",
   "execution_count": 62,
   "id": "77fd609b-954f-4929-893e-d9b48980f312",
   "metadata": {
    "tags": []
   },
   "outputs": [
    {
     "data": {
      "text/plain": [
       "File             Label  Audio_Length\n",
       "New_MR_005.wav   MR     1.576           1\n",
       "New_MS_014.wav   MS     1.214           1\n",
       "New_MS_040.wav   MS     1.974           1\n",
       "New_MS_124.wav   MS     1.976           1\n",
       "New_MS_191.wav   MS     1.998           1\n",
       "New_MVP_098.wav  MVP    1.742           1\n",
       "New_MVP_099.wav  MVP    1.728           1\n",
       "New_MVP_100.wav  MVP    1.776           1\n",
       "New_MVP_101.wav  MVP    1.792           1\n",
       "New_MVP_102.wav  MVP    1.938           1\n",
       "New_MVP_103.wav  MVP    1.954           1\n",
       "New_MVP_134.wav  MVP    1.960           1\n",
       "New_MVP_137.wav  MVP    1.855           1\n",
       "New_MVP_138.wav  MVP    1.856           1\n",
       "New_MVP_149.wav  MVP    1.991           1\n",
       "New_MVP_152.wav  MVP    1.990           1\n",
       "New_MVP_155.wav  MVP    1.954           1\n",
       "New_MVP_167.wav  MVP    1.994           1\n",
       "New_MVP_172.wav  MVP    1.974           1\n",
       "New_MVP_191.wav  MVP    1.726           1\n",
       "New_MVP_192.wav  MVP    1.764           1\n",
       "New_MVP_193.wav  MVP    1.791           1\n",
       "New_MVP_194.wav  MVP    1.878           1\n",
       "New_MS_030.wav   MS     1.997           1\n",
       "New_MS_013.wav   MS     1.197           1\n",
       "New_MR_006.wav   MR     1.719           1\n",
       "New_MS_012.wav   MS     1.343           1\n",
       "New_MR_007.wav   MR     1.806           1\n",
       "New_MR_008.wav   MR     1.614           1\n",
       "New_MR_009.wav   MR     1.775           1\n",
       "New_MR_010.wav   MR     1.666           1\n",
       "New_MR_015.wav   MR     1.851           1\n",
       "New_MR_016.wav   MR     1.767           1\n",
       "New_MR_018.wav   MR     1.665           1\n",
       "New_MR_019.wav   MR     1.948           1\n",
       "New_MR_020.wav   MR     1.732           1\n",
       "New_MR_021.wav   MR     1.866           1\n",
       "New_MR_022.wav   MR     1.886           1\n",
       "New_MR_023.wav   MR     1.944           1\n",
       "New_MR_024.wav   MR     1.917           1\n",
       "New_MR_025.wav   MR     1.984           1\n",
       "New_MS_005.wav   MS     1.204           1\n",
       "New_MS_006.wav   MS     1.156           1\n",
       "New_MS_007.wav   MS     1.273           1\n",
       "New_MS_008.wav   MS     1.206           1\n",
       "New_MS_009.wav   MS     1.316           1\n",
       "New_MS_010.wav   MS     1.289           1\n",
       "New_MS_011.wav   MS     1.465           1\n",
       "New_MVP_195.wav  MVP    1.955           1\n",
       "Name: count, dtype: int64"
      ]
     },
     "execution_count": 62,
     "metadata": {},
     "output_type": "execute_result"
    }
   ],
   "source": [
    "length_counts_less2"
   ]
  },
  {
   "cell_type": "code",
   "execution_count": 65,
   "id": "5173fcd4-3bf9-4ef8-ba10-b06470a2acbc",
   "metadata": {
    "tags": []
   },
   "outputs": [],
   "source": [
    "data_more2 = df[df['Audio_Length'] > 2]"
   ]
  },
  {
   "cell_type": "code",
   "execution_count": 88,
   "id": "bd525666-8fe2-446b-8596-d063a4cf658f",
   "metadata": {
    "tags": []
   },
   "outputs": [],
   "source": [
    "maximum_length = data_more2['Audio_Length'].max()\n",
    "max_index = data_more2['Audio_Length'].idxmax()\n",
    "filename_of_maximum_length = data_more2.loc[max_index, 'File']"
   ]
  },
  {
   "cell_type": "code",
   "execution_count": 89,
   "id": "2ae88c84-7e46-4077-9589-5568908212c3",
   "metadata": {
    "tags": []
   },
   "outputs": [
    {
     "data": {
      "text/plain": [
       "3.993"
      ]
     },
     "execution_count": 89,
     "metadata": {},
     "output_type": "execute_result"
    }
   ],
   "source": [
    "maximum_length"
   ]
  },
  {
   "cell_type": "code",
   "execution_count": 90,
   "id": "7143abea-f48c-4469-8b82-3b9a4ad398bd",
   "metadata": {
    "tags": []
   },
   "outputs": [
    {
     "data": {
      "text/plain": [
       "'New_MVP_003.wav'"
      ]
     },
     "execution_count": 90,
     "metadata": {},
     "output_type": "execute_result"
    }
   ],
   "source": [
    "filename_of_maximum_length"
   ]
  },
  {
   "cell_type": "code",
   "execution_count": 40,
   "id": "01be4d7c-18fe-407b-8bfc-0dcbb32751f0",
   "metadata": {
    "tags": []
   },
   "outputs": [],
   "source": [
    "length_counts_greater2 = data_more2.value_counts()"
   ]
  },
  {
   "cell_type": "code",
   "execution_count": 41,
   "id": "299a2914-3349-4fc9-9053-c445ab0316e5",
   "metadata": {
    "tags": []
   },
   "outputs": [
    {
     "data": {
      "text/plain": [
       "750"
      ]
     },
     "execution_count": 41,
     "metadata": {},
     "output_type": "execute_result"
    }
   ],
   "source": [
    "len(length_counts_greater2)"
   ]
  },
  {
   "cell_type": "code",
   "execution_count": 107,
   "id": "7ef038de-4b34-481f-9943-b0af2331984d",
   "metadata": {
    "tags": []
   },
   "outputs": [],
   "source": [
    "def getSpectrogram(audio_file, image_file):\n",
    "    fig = plt.figure()\n",
    "    ax = fig.add_subplot(1, 1, 1)\n",
    "    fig.subplots_adjust(left=0, right=1, bottom=0, top=1)\n",
    "\n",
    "    y, sr = librosa.load(audio_file)\n",
    "    ms = librosa.feature.melspectrogram(y=y, sr=sr)\n",
    "    log_ms = librosa.power_to_db(ms, ref=np.max)\n",
    "    librosa.display.specshow(log_ms, sr=sr)\n",
    "\n",
    "    fig.savefig(image_file)\n",
    "    plt.close(fig)"
   ]
  },
  {
   "cell_type": "code",
   "execution_count": 108,
   "id": "58f5cac9-a505-4970-938d-02ef8b54ab82",
   "metadata": {
    "tags": []
   },
   "outputs": [],
   "source": [
    "minimum_length_path = \"heart_dataset/MS/New_MS_006.wav\"\n",
    "dest_minimum = \"New_MS_006-minimum.png\""
   ]
  },
  {
   "cell_type": "code",
   "execution_count": 109,
   "id": "8f182c7d-a1a0-4fde-9d80-8f6c023184dd",
   "metadata": {
    "tags": []
   },
   "outputs": [],
   "source": [
    "maximum_length_path = \"heart_dataset/MVP/New_MVP_003.wav\"\n",
    "dest_maximum = \"New_MVP_003-maximum.png\""
   ]
  },
  {
   "cell_type": "code",
   "execution_count": 110,
   "id": "7259bcbb-6742-4cd4-ac78-b326e7b46919",
   "metadata": {
    "tags": []
   },
   "outputs": [],
   "source": [
    "getSpectrogram(minimum_length_path,dest_minimum)"
   ]
  },
  {
   "cell_type": "code",
   "execution_count": 111,
   "id": "2dda6366-af56-485c-8738-84572129b9f9",
   "metadata": {
    "tags": []
   },
   "outputs": [],
   "source": [
    "getSpectrogram(maximum_length_path,dest_maximum)"
   ]
  },
  {
   "cell_type": "code",
   "execution_count": 112,
   "id": "0866e772-e73d-475d-83c0-aa0f57d40fa1",
   "metadata": {
    "tags": []
   },
   "outputs": [],
   "source": [
    "another_length_path = \"heart_dataset/MVP/New_MVP_004.wav\"\n",
    "another_MVP = \"New_MVP_004-another.png\""
   ]
  },
  {
   "cell_type": "code",
   "execution_count": 113,
   "id": "c4355ade-9c83-4ba5-aea2-ceb20f9e29ab",
   "metadata": {
    "tags": []
   },
   "outputs": [],
   "source": [
    "getSpectrogram(another_length_path,another_MVP)"
   ]
  },
  {
   "cell_type": "code",
   "execution_count": 123,
   "id": "c2a19f0b-46ee-4770-bcd8-438b5bce86c3",
   "metadata": {
    "tags": []
   },
   "outputs": [],
   "source": [
    "def makeSpectrogramImage(input_path, output_path):\n",
    "    if not os.path.exists(output_path):\n",
    "        os.makedirs(output_path)\n",
    "\n",
    "    dir = os.listdir(input_path)\n",
    "\n",
    "    for i, file in enumerate(dir):\n",
    "        input_file = os.path.join(input_path, file)\n",
    "        output_file = os.path.join(output_path, file.replace('.wav', '.png'))\n",
    "        getSpectrogram(input_file, output_file)"
   ]
  },
  {
   "cell_type": "code",
   "execution_count": 142,
   "id": "fcd9f691-0eb9-45f4-abd8-471458ea29f4",
   "metadata": {
    "tags": []
   },
   "outputs": [],
   "source": [
    "makeSpectrogramImage('heart_dataset/AS', 'heart_dataset_image/AS')"
   ]
  },
  {
   "cell_type": "code",
   "execution_count": 143,
   "id": "dc14c028-af9f-4657-a3d0-359b614b349d",
   "metadata": {
    "tags": []
   },
   "outputs": [],
   "source": [
    "makeSpectrogramImage('heart_dataset/MR', 'heart_dataset_image/MR')"
   ]
  },
  {
   "cell_type": "code",
   "execution_count": 144,
   "id": "17aedb42-a3b0-45a5-8953-fc252aca7f39",
   "metadata": {
    "tags": []
   },
   "outputs": [],
   "source": [
    "makeSpectrogramImage('heart_dataset/MS', 'heart_dataset_image/MS')"
   ]
  },
  {
   "cell_type": "code",
   "execution_count": 145,
   "id": "4b2c69b5-e417-40f5-ae7a-5e2cade6f01f",
   "metadata": {
    "tags": []
   },
   "outputs": [],
   "source": [
    "makeSpectrogramImage('heart_dataset/MVP', 'heart_dataset_image/MCP')"
   ]
  },
  {
   "cell_type": "code",
   "execution_count": 146,
   "id": "5e71e75f-16d0-4afd-9fce-a265eb7ef4a5",
   "metadata": {
    "tags": []
   },
   "outputs": [],
   "source": [
    "makeSpectrogramImage('heart_dataset/Normal', 'heart_dataset_image/Normal')"
   ]
  },
  {
   "cell_type": "code",
   "execution_count": 1,
   "id": "c06bee32-9034-4586-9d6b-a4801cc0ba02",
   "metadata": {},
   "outputs": [],
   "source": [
    "import torch\n",
    "from torch.utils.data import Dataset\n",
    "from torchvision import transforms\n",
    "from PIL import Image"
   ]
  },
  {
   "cell_type": "code",
   "execution_count": 2,
   "id": "519aeca2-151e-4dc4-b207-bd094b876bdb",
   "metadata": {
    "tags": []
   },
   "outputs": [],
   "source": [
    "transform = transforms.Compose([\n",
    "    transforms.Resize((100, 100)),  \n",
    "    transforms.ToTensor()         \n",
    "])"
   ]
  },
  {
   "cell_type": "code",
   "execution_count": 28,
   "id": "56e8c2b3-096b-4c61-9a13-8f1f3c46d221",
   "metadata": {
    "tags": []
   },
   "outputs": [],
   "source": [
    "X = df[\"File\"]\n",
    "Y = df[\"Label\"]"
   ]
  },
  {
   "cell_type": "code",
   "execution_count": 40,
   "id": "686b9ba8-5c6a-463f-bf0b-0be674a0f46a",
   "metadata": {
    "tags": []
   },
   "outputs": [
    {
     "data": {
      "text/plain": [
       "'New_MR_030'"
      ]
     },
     "execution_count": 40,
     "metadata": {},
     "output_type": "execute_result"
    }
   ],
   "source": [
    "X[0].split('.', 1)[0]"
   ]
  },
  {
   "cell_type": "code",
   "execution_count": 31,
   "id": "0451176b-f83f-43ec-9cc7-b7a6a20a79ab",
   "metadata": {
    "tags": []
   },
   "outputs": [
    {
     "name": "stdout",
     "output_type": "stream",
     "text": [
      "Original labels: 0    MR\n",
      "1    MR\n",
      "2    MR\n",
      "3    MR\n",
      "4    MR\n",
      "5    MR\n",
      "6    MR\n",
      "7    MR\n",
      "8    MR\n",
      "9    MR\n",
      "Name: Label, dtype: object\n",
      "Encoded labels: [1 1 1 1 1 1 1 1 1 1]\n"
     ]
    }
   ],
   "source": [
    "from sklearn.preprocessing import LabelEncoder\n",
    "\n",
    "# Initialize LabelEncoder\n",
    "label_encoder = LabelEncoder()\n",
    "\n",
    "# Fit label encoder and transform Y\n",
    "Y_encoded = label_encoder.fit_transform(Y)\n",
    "\n",
    "print(\"Original labels:\", Y[:10])\n",
    "print(\"Encoded labels:\", Y_encoded[:10])"
   ]
  },
  {
   "cell_type": "code",
   "execution_count": 90,
   "id": "7a4c601b-303e-4835-8198-6aeb24fecbc5",
   "metadata": {
    "tags": []
   },
   "outputs": [],
   "source": [
    "from sklearn.model_selection import train_test_split\n",
    "\n",
    "X_train, X_temp, y_train, y_temp = train_test_split(X, Y_encoded, test_size=0.3, random_state=42)\n",
    "X_val, X_test, y_val, y_test = train_test_split(X_temp, y_temp, test_size=0.5, random_state=42)"
   ]
  },
  {
   "cell_type": "code",
   "execution_count": 76,
   "id": "3db7f4f3-60cf-466f-9036-ff52fe1ea12d",
   "metadata": {
    "tags": []
   },
   "outputs": [],
   "source": [
    "class heartDataset(Dataset):\n",
    "    def __init__(self, X , Y, transform=None):\n",
    "        self.image_name = X\n",
    "        self.labels = Y\n",
    "        self.transform = transform\n",
    "\n",
    "    def __len__(self):\n",
    "        return len(self.labels)\n",
    "\n",
    "    def __getitem__(self, idx):\n",
    "        img_name = self.image_name.iloc[idx]\n",
    "        parts = img_name.split('_', 2)[1]\n",
    "        if parts == \"N\":\n",
    "            parts = \"Normal\"\n",
    "        img_name_png = img_name.split('.', 1)[0]\n",
    "\n",
    "        img_path = os.path.join(\"heart_dataset_image/\"+ parts +\"/\" + img_name_png + \".png\")\n",
    "\n",
    "        # Open image\n",
    "        img = Image.open(img_path)\n",
    "\n",
    "        # Convert label to PyTorch tensor\n",
    "        label = self.labels[idx]\n",
    "\n",
    "        # Apply transforms if available\n",
    "        if self.transform:\n",
    "            img = self.transform(img)\n",
    "\n",
    "        return img, label"
   ]
  },
  {
   "cell_type": "code",
   "execution_count": 92,
   "id": "09051839-e681-4f53-ace3-ccc1c563bd0d",
   "metadata": {
    "tags": []
   },
   "outputs": [],
   "source": [
    "train_Dataset = heartDataset(X_train,y_train, transform=transform)\n",
    "test_Dataset = heartDataset(X_test,y_test, transform=transform)\n",
    "val_Dataset = heartDataset(X_val,y_val, transform=transform)"
   ]
  },
  {
   "cell_type": "code",
   "execution_count": 93,
   "id": "ed8c2b4b-b9ab-4e07-b558-a1e3d0fa89d1",
   "metadata": {
    "tags": []
   },
   "outputs": [
    {
     "data": {
      "text/plain": [
       "torch.Size([4, 100, 100])"
      ]
     },
     "execution_count": 93,
     "metadata": {},
     "output_type": "execute_result"
    }
   ],
   "source": [
    "train_Dataset[0][0].shape"
   ]
  },
  {
   "cell_type": "code",
   "execution_count": 94,
   "id": "062252d5-c139-4a17-a4ea-4cc2cf5dc8e0",
   "metadata": {
    "tags": []
   },
   "outputs": [],
   "source": [
    "from torch.utils.data import DataLoader\n",
    "\n",
    "batch_size = 64\n",
    "\n",
    "train_loader = DataLoader(train_Dataset, batch_size=batch_size, shuffle=True)\n",
    "test_loader = DataLoader(test_Dataset, batch_size=batch_size, shuffle=False)\n",
    "val_loader = DataLoader(val_Dataset, batch_size=batch_size, shuffle=False)"
   ]
  },
  {
   "cell_type": "code",
   "execution_count": 84,
   "id": "b74cec20-e322-4a25-9bed-bec3b21e0f7e",
   "metadata": {
    "tags": []
   },
   "outputs": [],
   "source": [
    "def train(model, train_loader, test_loader, criterion, optimizer, num_epochs):\n",
    "\n",
    "    train_losses = []\n",
    "    test_losses = []\n",
    "    accuracies = []\n",
    "    best_test_loss = float('inf')\n",
    "    no_improvement_count = 0\n",
    "    patience = 4\n",
    "\n",
    "    for epoch in range(num_epochs):\n",
    "        model.train()  # Set model to training mode\n",
    "\n",
    "        running_loss = 0.0\n",
    "        for inputs, labels in train_loader:\n",
    "            inputs, labels = inputs.cuda(), labels.cuda()\n",
    "\n",
    "            optimizer.zero_grad()\n",
    "            outputs = model(inputs)  # Forward pass\n",
    "            loss = criterion(outputs, labels)  # Compute loss\n",
    "            \n",
    "            loss.backward()  # Backward pass\n",
    "            optimizer.step()  # Update model parameters\n",
    "\n",
    "            running_loss += loss.item() * inputs.size(0)\n",
    "\n",
    "        epoch_loss = running_loss / len(train_loader.sampler)\n",
    "        train_losses.append(epoch_loss)\n",
    "\n",
    "        \n",
    "\n",
    "        correct = 0\n",
    "        total = 0\n",
    "        test_loss = 0.0\n",
    "\n",
    "        \n",
    "        model.eval()  # Set model to evaluation mode\n",
    "        with torch.no_grad():  # Disable gradient calculation for inference\n",
    "            for inputs, labels in test_loader:\n",
    "                inputs, labels = inputs.cuda(), labels.cuda()\n",
    "\n",
    "                outputs = model(inputs)  # Forward pass\n",
    "                loss = criterion(outputs, labels)\n",
    "                test_loss += loss.item() * labels.size(0)\n",
    "\n",
    "                _, predicted = torch.max(outputs, 1)\n",
    "                total += labels.size(0)\n",
    "                correct += (predicted == labels).sum().item()\n",
    "\n",
    "        test_loss = test_loss / len(test_loader.sampler)\n",
    "        test_losses.append(test_loss)\n",
    "\n",
    "        accuracy = (correct / total) * 100\n",
    "        accuracies.append(accuracy)\n",
    "\n",
    "        print(f'Epoch [{epoch+1}/{num_epochs}], '\n",
    "              f'Training Loss: {epoch_loss:.4f}, '\n",
    "              f'Testing Loss: {test_loss:.4f}, '\n",
    "              f'Accuracy on test set: {accuracy:.2f}%')\n",
    "        \n",
    "        # Early stopping: check if test loss has stopped improving\n",
    "        if test_loss <= best_test_loss:\n",
    "            best_test_loss = test_loss\n",
    "            no_improvement_count = 0\n",
    "        else:\n",
    "            no_improvement_count += 1\n",
    "\n",
    "        if no_improvement_count >= patience:\n",
    "            print(f\"No improvement in test loss for {patience} epochs. Stopping training.\")\n",
    "            break\n",
    "\n",
    "    # Plot learning curve\n",
    "    plt.plot(range(1, len(train_losses) + 1), train_losses, label='Training Loss')\n",
    "    plt.plot(range(1, len(test_losses) + 1), test_losses, label='Test Loss')\n",
    "    plt.xlabel('Epoch')\n",
    "    plt.ylabel('Loss')\n",
    "    plt.title('Learning Curve')\n",
    "    plt.legend()\n",
    "    plt.show()\n",
    "\n",
    "    return train_losses, test_losses, accuracies"
   ]
  },
  {
   "cell_type": "code",
   "execution_count": 86,
   "id": "3fa47f49-4171-4b1e-9ba2-17b39c584245",
   "metadata": {
    "tags": []
   },
   "outputs": [],
   "source": [
    "import torch\n",
    "import torch.nn as nn\n",
    "\n",
    "class ModelV1(torch.nn.Module):\n",
    "\n",
    "    def __init__(self):\n",
    "        super(ModelV1, self).__init__()\n",
    "\n",
    "        # Define convolutional layer\n",
    "        self.conv1 = nn.Conv2d(in_channels=4, out_channels=4, kernel_size=3, stride=1, padding=1)\n",
    "        self.activation1 = nn.ReLU()\n",
    "        self.activation2 = nn.Sigmoid()\n",
    "        self.pool = nn.MaxPool2d(kernel_size=3, stride=1)\n",
    "\n",
    "        # Define fully connected layers\n",
    "        self.fc1 = nn.Linear(4*98*98,200)\n",
    "        self.fc2 = nn.Linear(200, 5)  # Adjusted to have 9 output labels\n",
    "\n",
    "    def forward(self, x):\n",
    "\n",
    "        # Apply convolutional layers\n",
    "        x = self.pool(self.activation1(self.conv1(x)))\n",
    "\n",
    "        # Flatten the output before passing to fully connected layer\n",
    "        m = nn.Flatten()\n",
    "        x = m(x)\n",
    "\n",
    "        # Apply fully connected layers\n",
    "        x = self.activation2(self.fc1(x))\n",
    "        x = self.fc2(x)\n",
    "\n",
    "        return x"
   ]
  },
  {
   "cell_type": "code",
   "execution_count": 95,
   "id": "ca7b48bb-7376-4ed8-a7b1-ac97b0324abe",
   "metadata": {
    "tags": []
   },
   "outputs": [],
   "source": [
    "import torch.optim as optim\n",
    "\n",
    "learning_rate = 0.001\n",
    "num_epochs = 100\n",
    "\n",
    "# Initialize model\n",
    "model = ModelV1().cuda()\n",
    "\n",
    "# Define loss function\n",
    "criterion = nn.CrossEntropyLoss()\n",
    "\n",
    "# Define optimizer\n",
    "optimizer = optim.Adam(model.parameters(), lr=learning_rate)"
   ]
  },
  {
   "cell_type": "code",
   "execution_count": 96,
   "id": "1b495bfc-309e-4ebc-ba57-86dba18e9389",
   "metadata": {
    "tags": []
   },
   "outputs": [
    {
     "name": "stdout",
     "output_type": "stream",
     "text": [
      "Epoch [1/100], Training Loss: 1.9408, Testing Loss: 1.8581, Accuracy on test set: 38.67%\n",
      "Epoch [2/100], Training Loss: 1.5124, Testing Loss: 1.4597, Accuracy on test set: 34.00%\n",
      "Epoch [3/100], Training Loss: 1.3142, Testing Loss: 1.2297, Accuracy on test set: 78.67%\n",
      "Epoch [4/100], Training Loss: 1.1717, Testing Loss: 1.1287, Accuracy on test set: 74.67%\n",
      "Epoch [5/100], Training Loss: 1.0491, Testing Loss: 1.0187, Accuracy on test set: 86.67%\n",
      "Epoch [6/100], Training Loss: 0.9281, Testing Loss: 0.9176, Accuracy on test set: 85.33%\n",
      "Epoch [7/100], Training Loss: 0.8144, Testing Loss: 0.8062, Accuracy on test set: 82.00%\n",
      "Epoch [8/100], Training Loss: 0.6934, Testing Loss: 0.6895, Accuracy on test set: 86.67%\n",
      "Epoch [9/100], Training Loss: 0.5859, Testing Loss: 0.5967, Accuracy on test set: 86.00%\n",
      "Epoch [10/100], Training Loss: 0.5089, Testing Loss: 0.5258, Accuracy on test set: 86.67%\n",
      "Epoch [11/100], Training Loss: 0.4349, Testing Loss: 0.4541, Accuracy on test set: 86.67%\n",
      "Epoch [12/100], Training Loss: 0.3800, Testing Loss: 0.4179, Accuracy on test set: 86.67%\n",
      "Epoch [13/100], Training Loss: 0.3353, Testing Loss: 0.3740, Accuracy on test set: 87.33%\n",
      "Epoch [14/100], Training Loss: 0.2900, Testing Loss: 0.3267, Accuracy on test set: 90.67%\n",
      "Epoch [15/100], Training Loss: 0.2676, Testing Loss: 0.2949, Accuracy on test set: 94.00%\n",
      "Epoch [16/100], Training Loss: 0.2348, Testing Loss: 0.2800, Accuracy on test set: 93.33%\n",
      "Epoch [17/100], Training Loss: 0.2053, Testing Loss: 0.2477, Accuracy on test set: 94.67%\n",
      "Epoch [18/100], Training Loss: 0.1790, Testing Loss: 0.2322, Accuracy on test set: 94.67%\n",
      "Epoch [19/100], Training Loss: 0.1628, Testing Loss: 0.2239, Accuracy on test set: 94.67%\n",
      "Epoch [20/100], Training Loss: 0.1602, Testing Loss: 0.2406, Accuracy on test set: 94.00%\n",
      "Epoch [21/100], Training Loss: 0.1430, Testing Loss: 0.1953, Accuracy on test set: 95.33%\n",
      "Epoch [22/100], Training Loss: 0.1275, Testing Loss: 0.1982, Accuracy on test set: 94.00%\n",
      "Epoch [23/100], Training Loss: 0.1153, Testing Loss: 0.1793, Accuracy on test set: 94.67%\n",
      "Epoch [24/100], Training Loss: 0.1056, Testing Loss: 0.1700, Accuracy on test set: 95.33%\n",
      "Epoch [25/100], Training Loss: 0.0985, Testing Loss: 0.1714, Accuracy on test set: 94.67%\n",
      "Epoch [26/100], Training Loss: 0.0950, Testing Loss: 0.1558, Accuracy on test set: 95.33%\n",
      "Epoch [27/100], Training Loss: 0.0910, Testing Loss: 0.1529, Accuracy on test set: 95.33%\n",
      "Epoch [28/100], Training Loss: 0.0830, Testing Loss: 0.1694, Accuracy on test set: 94.67%\n",
      "Epoch [29/100], Training Loss: 0.0796, Testing Loss: 0.1527, Accuracy on test set: 94.67%\n",
      "Epoch [30/100], Training Loss: 0.0743, Testing Loss: 0.1450, Accuracy on test set: 95.33%\n",
      "Epoch [31/100], Training Loss: 0.0712, Testing Loss: 0.1525, Accuracy on test set: 94.67%\n",
      "Epoch [32/100], Training Loss: 0.0669, Testing Loss: 0.1427, Accuracy on test set: 94.67%\n",
      "Epoch [33/100], Training Loss: 0.0620, Testing Loss: 0.1376, Accuracy on test set: 94.67%\n",
      "Epoch [34/100], Training Loss: 0.0595, Testing Loss: 0.1347, Accuracy on test set: 95.33%\n",
      "Epoch [35/100], Training Loss: 0.0561, Testing Loss: 0.1343, Accuracy on test set: 94.67%\n",
      "Epoch [36/100], Training Loss: 0.0537, Testing Loss: 0.1271, Accuracy on test set: 95.33%\n",
      "Epoch [37/100], Training Loss: 0.0513, Testing Loss: 0.1252, Accuracy on test set: 95.33%\n",
      "Epoch [38/100], Training Loss: 0.0498, Testing Loss: 0.1258, Accuracy on test set: 95.33%\n",
      "Epoch [39/100], Training Loss: 0.0487, Testing Loss: 0.1217, Accuracy on test set: 95.33%\n",
      "Epoch [40/100], Training Loss: 0.0472, Testing Loss: 0.1312, Accuracy on test set: 94.67%\n",
      "Epoch [41/100], Training Loss: 0.0459, Testing Loss: 0.1107, Accuracy on test set: 96.00%\n",
      "Epoch [42/100], Training Loss: 0.0431, Testing Loss: 0.1125, Accuracy on test set: 95.33%\n",
      "Epoch [43/100], Training Loss: 0.0430, Testing Loss: 0.1188, Accuracy on test set: 96.00%\n",
      "Epoch [44/100], Training Loss: 0.0422, Testing Loss: 0.1144, Accuracy on test set: 95.33%\n",
      "Epoch [45/100], Training Loss: 0.0393, Testing Loss: 0.1095, Accuracy on test set: 96.00%\n",
      "Epoch [46/100], Training Loss: 0.0381, Testing Loss: 0.1100, Accuracy on test set: 96.00%\n",
      "Epoch [47/100], Training Loss: 0.0380, Testing Loss: 0.1141, Accuracy on test set: 96.00%\n",
      "Epoch [48/100], Training Loss: 0.0365, Testing Loss: 0.1133, Accuracy on test set: 96.00%\n",
      "Epoch [49/100], Training Loss: 0.0357, Testing Loss: 0.1105, Accuracy on test set: 96.00%\n",
      "No improvement in test loss for 4 epochs. Stopping training.\n"
     ]
    },
    {
     "data": {
      "image/png": "[encoded data removed]",
      "text/plain": [
       "<Figure size 640x480 with 1 Axes>"
      ]
     },
     "metadata": {},
     "output_type": "display_data"
    }
   ],
   "source": [
    "train_losses,test_losses,accuracy = train(model, train_loader, test_loader, criterion, optimizer, num_epochs)"
   ]
  },
  {
   "cell_type": "code",
   "execution_count": 97,
   "id": "cee765f6-8dcf-47a4-82d3-ef5ef6728629",
   "metadata": {
    "tags": []
   },
   "outputs": [],
   "source": [
    "def eval(model, val_loader, criterion, optimizer):\n",
    "\n",
    "  model.eval()  # Set model to evaluation mode\n",
    "\n",
    "  with torch.no_grad():  # Disable gradient calculation for inference\n",
    "      correct = 0\n",
    "      total = 0\n",
    "      for inputs, labels in val_loader:\n",
    "          # Forward pass\n",
    "          inputs,labels = inputs.cuda(),labels.cuda()\n",
    "\n",
    "          outputs = model(inputs)\n",
    "\n",
    "          # Get predicted labels\n",
    "          _, predicted = torch.max(outputs, 1)\n",
    "\n",
    "\n",
    "          total += labels.size(0)\n",
    "          correct += (predicted == labels).sum().item()\n",
    "\n",
    "  # Calculate accuracy\n",
    "  accuracy = (correct / total) * 100\n",
    "  print(f\"Accuracy on validation set: {accuracy:.2f}%\")"
   ]
  },
  {
   "cell_type": "code",
   "execution_count": 98,
   "id": "cffd8867-9c5e-479d-85c3-881d09ec8c73",
   "metadata": {
    "tags": []
   },
   "outputs": [
    {
     "name": "stdout",
     "output_type": "stream",
     "text": [
      "Accuracy on validation set: 96.67%\n"
     ]
    }
   ],
   "source": [
    "eval(model, val_loader, criterion, optimizer)"
   ]
  },
  {
   "cell_type": "code",
   "execution_count": null,
   "id": "4c0f4846-c8dd-4284-a6f5-0d50c2b6f62a",
   "metadata": {},
   "outputs": [],
   "source": []
  }
 ],
 "metadata": {
  "kernelspec": {
   "display_name": "PyTorch 2.0",
   "language": "python",
   "name": "pytorch-2-0"
  },
  "language_info": {
   "codemirror_mode": {
    "name": "ipython",
    "version": 3
   },
   "file_extension": ".py",
   "mimetype": "text/x-python",
   "name": "python",
   "nbconvert_exporter": "python",
   "pygments_lexer": "ipython3",
   "version": "3.10.13"
  }
 },
 "nbformat": 4,
 "nbformat_minor": 5
}
